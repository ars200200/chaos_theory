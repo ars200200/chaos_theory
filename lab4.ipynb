{
 "cells": [
  {
   "cell_type": "markdown",
   "id": "10779f1a",
   "metadata": {},
   "source": [
    "$\\dot {x} =y$ \\\n",
    "$\\dot {y} =x-z$\\\n",
    "$\\dot {z} =x+xz+2.7y$\n",
    "\n",
    "\n"
   ]
  },
  {
   "cell_type": "markdown",
   "id": "fd7fa1fd",
   "metadata": {},
   "source": [
    "$y = 0$ \\\n",
    "$x - z = 0$ \\\n",
    "$ x + xz + 2.7y = 0$ "
   ]
  },
  {
   "cell_type": "markdown",
   "id": "40393bfd",
   "metadata": {},
   "source": [
    "$(0, 0, 0)$ \\\n",
    "$(-1,0,-1)$"
   ]
  },
  {
   "cell_type": "markdown",
   "id": "b2393250",
   "metadata": {},
   "source": [
    "\n",
    "$J = \\begin{pmatrix}\n",
    "  0 & 1 & 0 \\\\\n",
    "  1 & 0 & -1 \\\\\n",
    "  1 & 2.7 & x\n",
    "\\end{pmatrix}$ \n",
    "\n",
    "$\\newline$\n",
    "найдем собственные числа матрицы\n",
    "$\\newline$\n",
    "$\\begin{vmatrix}\n",
    "  0-\\lambda & 1 & 0 \\\\\n",
    "  1 & 0-\\lambda & -1 \\\\\n",
    "  1 & 2.7 & x-\\lambda\n",
    "\\end{vmatrix}$ "
   ]
  },
  {
   "cell_type": "markdown",
   "id": "08be7cc7",
   "metadata": {},
   "source": []
  },
  {
   "cell_type": "code",
   "execution_count": 1,
   "id": "f4eada37",
   "metadata": {},
   "outputs": [],
   "source": [
    "import numpy as np \n",
    "import matplotlib.pyplot as plt"
   ]
  },
  {
   "cell_type": "code",
   "execution_count": null,
   "id": "1fbf5cdf",
   "metadata": {},
   "outputs": [],
   "source": []
  }
 ],
 "metadata": {
  "kernelspec": {
   "display_name": "Python 3 (ipykernel)",
   "language": "python",
   "name": "python3"
  },
  "language_info": {
   "codemirror_mode": {
    "name": "ipython",
    "version": 3
   },
   "file_extension": ".py",
   "mimetype": "text/x-python",
   "name": "python",
   "nbconvert_exporter": "python",
   "pygments_lexer": "ipython3",
   "version": "3.11.5"
  }
 },
 "nbformat": 4,
 "nbformat_minor": 5
}

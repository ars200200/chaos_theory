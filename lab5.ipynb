{
 "cells": [
  {
   "cell_type": "code",
   "execution_count": 1,
   "id": "92dfd6dc",
   "metadata": {},
   "outputs": [],
   "source": [
    "import numpy as np\n",
    "import matplotlib.pyplot as plt"
   ]
  },
  {
   "cell_type": "markdown",
   "id": "e942a20e",
   "metadata": {},
   "source": [
    "$\\ddot{x} + \\frac{1}{q} \\dot{x} + \\sin{x} = f\\cos{\\omega t}$"
   ]
  },
  {
   "cell_type": "markdown",
   "id": "f6129152",
   "metadata": {},
   "source": [
    "$q = 4, \\omega = \\frac{2}{3}, f \\in [0.95, 1.5]$"
   ]
  },
  {
   "cell_type": "markdown",
   "id": "04e92de8",
   "metadata": {},
   "source": [
    "$\\dot{x} = y$ \\\n",
    "$\\dot{y} = -\\frac{1}{q}y -\\sin{x} - f\\cos{z}$ \\\n",
    "$\\dot{z} = \\omega$\n"
   ]
  },
  {
   "cell_type": "code",
   "execution_count": null,
   "id": "e39e2692",
   "metadata": {},
   "outputs": [],
   "source": []
  }
 ],
 "metadata": {
  "kernelspec": {
   "display_name": "my_env",
   "language": "python",
   "name": "my_env"
  },
  "language_info": {
   "codemirror_mode": {
    "name": "ipython",
    "version": 3
   },
   "file_extension": ".py",
   "mimetype": "text/x-python",
   "name": "python",
   "nbconvert_exporter": "python",
   "pygments_lexer": "ipython3",
   "version": "3.11.5"
  }
 },
 "nbformat": 4,
 "nbformat_minor": 5
}

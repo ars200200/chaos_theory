{
 "cells": [
  {
   "cell_type": "code",
   "execution_count": 5,
   "id": "d71f8871",
   "metadata": {},
   "outputs": [],
   "source": [
    "import numpy as np\n",
    "import matplotlib.pyplot as plt\n",
    "%matplotlib qt\n",
    "from matplotlib.widgets import Slider"
   ]
  },
  {
   "cell_type": "code",
   "execution_count": 6,
   "id": "9c22af46",
   "metadata": {},
   "outputs": [],
   "source": [
    "def r(x,y):\n",
    "    return np.sqrt(x**2+y**2)\n",
    "\n",
    "def f(x,y):\n",
    "    return np.where(r(x,y) < infty, y, infty)\n",
    "\n",
    "def g(x,y):\n",
    "    return np.where(r(x,y) < infty, -0.16*x+0.7*y**2-x*y-1.67, infty)\n",
    "    \n",
    "def f_dist(x,y,x_dist,y_dist):\n",
    "    return y_dist\n",
    "\n",
    "def g_dist(x,y,x_dist,y_dist):\n",
    "    return -0.16*x_dist+2*0.7*y*y_dist-x_dist*y-x*y_dist"
   ]
  },
  {
   "cell_type": "code",
   "execution_count": 7,
   "id": "110272ce",
   "metadata": {},
   "outputs": [],
   "source": [
    "fig = plt.figure(figsize=(10,10),dpi=100)\n",
    "ax = plt.axes()\n",
    "ax.grid(False)\n",
    "\n",
    "x_start = -2; x_end = 2\n",
    "y_start = -2; y_end = 2\n",
    "\n",
    "x_0 = np.linspace(x_start,x_end,1000)\n",
    "y_0 = np.linspace(y_start,y_end,1000)\n",
    "x_0_mesh,y_0_mesh = np.meshgrid(x_0,y_0)\n",
    "x_mesh,y_mesh = x_0_mesh,y_0_mesh\n",
    "\n",
    "infty = 100\n",
    "\n",
    "n = 200\n",
    "\n",
    "for i in range(n):\n",
    "    x_mesh,y_mesh = f(x_mesh,y_mesh),g(x_mesh,y_mesh)\n",
    "\n",
    "cmap = ax.pcolormesh(x_0_mesh,y_0_mesh,r(x_mesh,y_mesh),cmap='plasma')"
   ]
  },
  {
   "cell_type": "code",
   "execution_count": 8,
   "id": "bc303708",
   "metadata": {},
   "outputs": [
    {
     "data": {
      "text/plain": [
       "23"
      ]
     },
     "execution_count": 8,
     "metadata": {},
     "output_type": "execute_result"
    },
    {
     "name": "stderr",
     "output_type": "stream",
     "text": [
      "/tmp/ipykernel_26146/2535911762.py:44: MatplotlibDeprecationWarning: Setting data with a non sequence type is deprecated since 3.7 and will be remove two minor releases later\n",
      "  dot_start.set_data(x_draw[0],y_draw[0])\n",
      "/tmp/ipykernel_26146/2535911762.py:45: MatplotlibDeprecationWarning: Setting data with a non sequence type is deprecated since 3.7 and will be remove two minor releases later\n",
      "  dot_end.set_data(x_draw[-1],y_draw[-1])\n"
     ]
    }
   ],
   "source": [
    "fig = plt.figure(figsize=(10,10),dpi=150)\n",
    "ax = plt.axes()\n",
    "ax.grid()\n",
    "\n",
    "fig.subplots_adjust(bottom=0.25)\n",
    "\n",
    "ax.set_xlim(x_start,x_end); ax.set_ylim(y_start,y_end)\n",
    "\n",
    "x_0_init = 0; y_0_init = 0\n",
    "\n",
    "n_draw_init = 2\n",
    "\n",
    "ax_n_draw = fig.add_axes([0.15, 0.15, 0.7, 0.02])\n",
    "n_draw_slider = Slider(ax=ax_n_draw,label='$n$',valmin=1,valmax=1000,valstep=1,valinit=n_draw_init,color='royalblue')\n",
    "\n",
    "ax_x_0 = fig.add_axes([0.15, 0.1, 0.7, 0.02])\n",
    "x_0_slider = Slider(ax=ax_x_0,label='$x_0$',valmin=x_start,valmax=x_end,valstep=0.01,valinit=x_0_init,color='royalblue')\n",
    "\n",
    "ax_y_0 = fig.add_axes([0.15, 0.05, 0.7, 0.02])\n",
    "y_0_slider = Slider(ax=ax_y_0,label='$y_0$',valmin=y_start,valmax=y_end,valstep=0.01,valinit=y_0_init,color='royalblue')\n",
    "\n",
    "x = x_0_init; y = y_0_init\n",
    "x_draw = [x]; y_draw = [y]\n",
    "\n",
    "for i in range(n_draw_init):\n",
    "    x_temp = f(x,y); y_temp = g(x,y)\n",
    "    x = x_temp; y = y_temp\n",
    "    x_draw.append(x); y_draw.append(y)\n",
    "\n",
    "dots = ax.plot(x_draw[1:-1],y_draw[1:-1],color='black',linestyle=' ',marker='o',markersize=3,alpha=0.25)[0]\n",
    "dot_start = ax.plot(x_draw[0],y_draw[0],color='red',marker='o',markersize=4,alpha=0.75)[0]\n",
    "dot_end = ax.plot(x_draw[-1],y_draw[-1],color='orange',marker='o',markersize=4,alpha=0.75)[0]\n",
    "\n",
    "def update(val):\n",
    "    x = x_0_slider.val; y = y_0_slider.val\n",
    "    x_draw = [x]; y_draw = [y]\n",
    "    \n",
    "    for i in range(n_draw_slider.val):\n",
    "        x_temp = f(x,y); y_temp = g(x,y)\n",
    "        x = x_temp; y = y_temp\n",
    "        x_draw.append(x); y_draw.append(y)\n",
    "\n",
    "    dots.set_data(x_draw[1:-1],y_draw[1:-1])\n",
    "    dot_start.set_data(x_draw[0],y_draw[0])\n",
    "    dot_end.set_data(x_draw[-1],y_draw[-1])\n",
    "    \n",
    "n_draw_slider.on_changed(update)\n",
    "x_0_slider.on_changed(update)\n",
    "y_0_slider.on_changed(update)\n",
    "\n",
    "def n_key(event):\n",
    "    if (event.key == 'd' or event.key == 'в') and n_draw_slider.val < 1000:\n",
    "        n_draw_slider.set_val(n_draw_slider.val + 1)\n",
    "    elif (event.key == 'a' or event.key == 'ф') and n_draw_slider.val > 0:\n",
    "        n_draw_slider.set_val(n_draw_slider.val - 1)\n",
    "        \n",
    "fig.canvas.mpl_connect('key_press_event',n_key)"
   ]
  },
  {
   "cell_type": "code",
   "execution_count": 9,
   "id": "55ecb723",
   "metadata": {},
   "outputs": [
    {
     "name": "stdout",
     "output_type": "stream",
     "text": [
      "0.20783514677382886 -1.030104490566829\n"
     ]
    }
   ],
   "source": [
    "x = -1; y = 0\n",
    "x_dist_1 = 1; y_dist_1 = 0\n",
    "x_dist_2 = 0; y_dist_2 = 1\n",
    "\n",
    "M = 10000\n",
    "\n",
    "S_1 = 0; S_2 = 0\n",
    "\n",
    "for i in range(M):\n",
    "    x_dist_1_temp = f_dist(x,y,x_dist_1,y_dist_1); y_dist_1_temp = g_dist(x,y,x_dist_1,y_dist_1)\n",
    "    x_dist_1 = x_dist_1_temp; y_dist_1 = y_dist_1_temp\n",
    "    r_dist_1 = np.sqrt(x_dist_1**2+y_dist_1**2)\n",
    "    S_1 += np.log(r_dist_1)\n",
    "    x_dist_1 = x_dist_1/r_dist_1; y_dist_1 = y_dist_1/r_dist_1\n",
    "    \n",
    "    x_dist_2_temp = f_dist(x,y,x_dist_2,y_dist_2); y_dist_2_temp = g_dist(x,y,x_dist_2,y_dist_2)\n",
    "    x_dist_2 = x_dist_2_temp; y_dist_2 = y_dist_2_temp\n",
    "    dot = x_dist_2*x_dist_1+y_dist_2*y_dist_1\n",
    "    x_dist_2_new = x_dist_2-dot*x_dist_1; y_dist_2_new = y_dist_2-dot*y_dist_1\n",
    "    r_dist_2_new = np.sqrt(x_dist_2_new**2+y_dist_2_new**2)\n",
    "    S_2 += np.log(r_dist_2_new)\n",
    "    x_dist_2 = x_dist_2_new/r_dist_2_new; y_dist_2 = y_dist_2_new/r_dist_2_new\n",
    "    \n",
    "    \n",
    "    x_temp = f(x,y); y_temp = g(x,y)\n",
    "    x = x_temp; y = y_temp\n",
    "    \n",
    "Lambda_1 = S_1/M; Lambda_2 = S_2/M\n",
    "print(Lambda_1,Lambda_2)"
   ]
  },
  {
   "cell_type": "code",
   "execution_count": null,
   "id": "cf4c992c",
   "metadata": {},
   "outputs": [],
   "source": []
  }
 ],
 "metadata": {
  "kernelspec": {
   "display_name": "Python 3 (ipykernel)",
   "language": "python",
   "name": "python3"
  },
  "language_info": {
   "codemirror_mode": {
    "name": "ipython",
    "version": 3
   },
   "file_extension": ".py",
   "mimetype": "text/x-python",
   "name": "python",
   "nbconvert_exporter": "python",
   "pygments_lexer": "ipython3",
   "version": "3.11.5"
  }
 },
 "nbformat": 4,
 "nbformat_minor": 5
}
